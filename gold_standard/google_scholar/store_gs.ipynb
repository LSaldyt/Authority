{
 "cells": [
  {
   "cell_type": "code",
   "execution_count": 2,
   "metadata": {},
   "outputs": [],
   "source": [
    "import pandas\n",
    "import sqlite3\n",
    "\n",
    "cnx = sqlite3.connect('../../database/jstor-authority.db')\n",
    "cursor = cnx.cursor()\n",
    "\n",
    "import os\n",
    "folder = \"results\"\n",
    "for filename in os.listdir(folder):\n",
    "    if filename.endswith(\".csv\"):\n",
    "        print(os.path.join(folder, filename))\n",
    "        df = pandas.read_csv(folder+\"/\"+filename,sep=\";\",encoding = \"ISO-8859-1\")\n",
    "        # print(df)\n",
    "        df.columns=[\"name_id\",\"fullname\",\"ids\"]\n",
    "        df.to_sql(\"google_scholar_before\", cnx, if_exists='append', index=False)\n",
    "    else:\n",
    "        continue\n",
    "\n",
    "#remove duplicates\n",
    "# cursor.execute(\"drop table google_scholar_no_dups\")\n",
    "# cursor.execute(\"create table google_scholar_no_dups as select min(name_id) as name_id, fullname, ids from google_scholar group by fullname, ids\")\n",
    "# # cursor.execute(\"drop table if exists google_scholar_no_dups \")\n",
    "cursor.execute(\"create table google_scholar_new as select max(length(ids)) as ids_len, ids, replace(fullname,'  ',' ') as full_name, name_id from google_scholar_before group by full_name, name_id\")\n",
    "# cursor.execute(\"drop table google_scholar\")\n",
    "# cursor.execute(\"alter table google_scholar_no_dups rename to google_scholar\")\n",
    "cnx.commit()"
   ]
  },
  {
   "cell_type": "code",
   "execution_count": 3,
   "metadata": {},
   "outputs": [
    {
     "name": "stdout",
     "output_type": "stream",
     "text": [
      "   count(*)\n",
      "0     24763\n"
     ]
    }
   ],
   "source": [
    "print(pandas.read_sql_query(\"select count(*) from google_Scholar_new\",cnx))"
   ]
  },
  {
   "cell_type": "code",
   "execution_count": null,
   "metadata": {},
   "outputs": [],
   "source": []
  }
 ],
 "metadata": {
  "kernelspec": {
   "display_name": "Py3-basic",
   "language": "python",
   "name": "python3"
  },
  "language_info": {
   "codemirror_mode": {
    "name": "ipython",
    "version": 3
   },
   "file_extension": ".py",
   "mimetype": "text/x-python",
   "name": "python",
   "nbconvert_exporter": "python",
   "pygments_lexer": "ipython3",
   "version": "3.7.2"
  }
 },
 "nbformat": 4,
 "nbformat_minor": 2
}
